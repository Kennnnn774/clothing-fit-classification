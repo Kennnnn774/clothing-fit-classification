{
 "cells": [
  {
   "cell_type": "markdown",
   "metadata": {},
   "source": [
    "# LETS DO IT BOYSSSSSS"
   ]
  },
  {
   "cell_type": "code",
   "execution_count": 4,
   "metadata": {},
   "outputs": [],
   "source": [
    "import gzip\n",
    "import json\n",
    "import random\n",
    "import numpy as np\n",
    "import pandas as pd"
   ]
  },
  {
   "cell_type": "code",
   "execution_count": 5,
   "metadata": {},
   "outputs": [],
   "source": [
    "def reading_gz(filename):\n",
    "    f = gzip.open(filename, 'rt', encoding=\"utf8\")\n",
    "    lines = []\n",
    "    for line in f:\n",
    "        liness = json.loads(line.strip())\n",
    "        lines.append(liness)\n",
    "    return lines"
   ]
  },
  {
   "cell_type": "code",
   "execution_count": 6,
   "metadata": {},
   "outputs": [],
   "source": [
    "data_modcloth = reading_gz('modcloth_final_data.json.gz')\n",
    "data_renttherunway = reading_gz('renttherunway_final_data.json.gz')"
   ]
  },
  {
   "cell_type": "markdown",
   "metadata": {},
   "source": [
    "The data_modcloth has 82790 data and the data_renttherunway has 192544 items"
   ]
  },
  {
   "cell_type": "code",
   "execution_count": 7,
   "metadata": {},
   "outputs": [
    {
     "data": {
      "text/plain": [
       "(82790, 192544)"
      ]
     },
     "execution_count": 7,
     "metadata": {},
     "output_type": "execute_result"
    }
   ],
   "source": [
    "len(data_modcloth),len(data_renttherunway)"
   ]
  },
  {
   "cell_type": "code",
   "execution_count": 8,
   "metadata": {},
   "outputs": [
    {
     "data": {
      "text/plain": [
       "[{'item_id': '123373',\n",
       "  'waist': '29',\n",
       "  'size': 7,\n",
       "  'quality': 5,\n",
       "  'cup size': 'd',\n",
       "  'hips': '38',\n",
       "  'bra size': '34',\n",
       "  'category': 'new',\n",
       "  'bust': '36',\n",
       "  'height': '5ft 6in',\n",
       "  'user_name': 'Emily',\n",
       "  'length': 'just right',\n",
       "  'fit': 'small',\n",
       "  'user_id': '991571'},\n",
       " {'item_id': '123373',\n",
       "  'waist': '31',\n",
       "  'size': 13,\n",
       "  'quality': 3,\n",
       "  'cup size': 'b',\n",
       "  'hips': '30',\n",
       "  'bra size': '36',\n",
       "  'category': 'new',\n",
       "  'length': 'just right',\n",
       "  'height': '5ft 2in',\n",
       "  'user_name': 'sydneybraden2001',\n",
       "  'fit': 'small',\n",
       "  'user_id': '587883'},\n",
       " {'item_id': '123373',\n",
       "  'waist': '30',\n",
       "  'size': 7,\n",
       "  'quality': 2,\n",
       "  'cup size': 'b',\n",
       "  'shoe size': '9.00',\n",
       "  'bra size': '32',\n",
       "  'category': 'new',\n",
       "  'length': 'slightly long',\n",
       "  'height': '5ft 7in',\n",
       "  'user_name': 'Ugggh',\n",
       "  'fit': 'small',\n",
       "  'user_id': '395665'}]"
      ]
     },
     "execution_count": 8,
     "metadata": {},
     "output_type": "execute_result"
    }
   ],
   "source": [
    "data_modcloth[:3]"
   ]
  },
  {
   "cell_type": "markdown",
   "metadata": {},
   "source": [
    "The data in data_modcloth has the user_name, userID, user_size, fit"
   ]
  },
  {
   "cell_type": "code",
   "execution_count": 9,
   "metadata": {},
   "outputs": [
    {
     "data": {
      "text/plain": [
       "{'fit': 'fit',\n",
       " 'user_id': '420272',\n",
       " 'bust size': '34d',\n",
       " 'item_id': '2260466',\n",
       " 'weight': '137lbs',\n",
       " 'rating': '10',\n",
       " 'rented for': 'vacation',\n",
       " 'review_text': \"An adorable romper! Belt and zipper were a little hard to navigate in a full day of wear/bathroom use, but that's to be expected. Wish it had pockets, but other than that-- absolutely perfect! I got a million compliments.\",\n",
       " 'body type': 'hourglass',\n",
       " 'review_summary': 'So many compliments!',\n",
       " 'category': 'romper',\n",
       " 'height': '5\\' 8\"',\n",
       " 'size': 14,\n",
       " 'age': '28',\n",
       " 'review_date': 'April 20, 2016'}"
      ]
     },
     "execution_count": 9,
     "metadata": {},
     "output_type": "execute_result"
    }
   ],
   "source": [
    "data_renttherunway[0]"
   ]
  },
  {
   "cell_type": "markdown",
   "metadata": {},
   "source": [
    "The data contain review_text, user_id, item_id, weight, and rating"
   ]
  },
  {
   "cell_type": "markdown",
   "metadata": {},
   "source": [
    "#  data_renttherunway"
   ]
  },
  {
   "cell_type": "code",
   "execution_count": 10,
   "metadata": {},
   "outputs": [],
   "source": [
    "from sklearn.feature_extraction.text import TfidfVectorizer\n",
    "import numpy\n",
    "import urllib\n",
    "import scipy.optimize\n",
    "import random\n",
    "from collections import defaultdict # Dictionaries with default values\n",
    "import nltk\n",
    "import string\n",
    "from nltk.stem.porter import *\n",
    "from sklearn import linear_model\n",
    "import ast\n",
    "import numpy as np"
   ]
  },
  {
   "cell_type": "code",
   "execution_count": 11,
   "metadata": {},
   "outputs": [],
   "source": [
    "np.random.shuffle(data_renttherunway)"
   ]
  },
  {
   "cell_type": "code",
   "execution_count": 12,
   "metadata": {},
   "outputs": [
    {
     "data": {
      "text/plain": [
       "173289"
      ]
     },
     "execution_count": 12,
     "metadata": {},
     "output_type": "execute_result"
    }
   ],
   "source": [
    "num_90th = int(len(data_renttherunway)*0.9)\n",
    "num_90th"
   ]
  },
  {
   "cell_type": "code",
   "execution_count": 13,
   "metadata": {},
   "outputs": [],
   "source": [
    "train_set = data_renttherunway[0:num_90th]\n",
    "validation_set = data_renttherunway[num_90th:]"
   ]
  },
  {
   "cell_type": "markdown",
   "metadata": {},
   "source": [
    "change the category to numerical data"
   ]
  },
  {
   "cell_type": "code",
   "execution_count": 14,
   "metadata": {},
   "outputs": [],
   "source": [
    "categorys= np.unique([w['category'] for w in data_renttherunway])\n",
    "categoryId = dict(zip(categorys, \n",
    "                  range(len(categorys))))"
   ]
  },
  {
   "cell_type": "code",
   "execution_count": 15,
   "metadata": {},
   "outputs": [
    {
     "data": {
      "text/plain": [
       "array(['ballgown', 'blazer', 'blouse', 'blouson', 'bomber', 'buttondown',\n",
       "       'caftan', 'cami', 'cape', 'cardigan', 'coat', 'combo', 'crewneck',\n",
       "       'culotte', 'culottes', 'down', 'dress', 'duster', 'for', 'frock',\n",
       "       'gown', 'henley', 'hoodie', 'jacket', 'jeans', 'jogger',\n",
       "       'jumpsuit', 'kaftan', 'kimono', 'knit', 'legging', 'leggings',\n",
       "       'maxi', 'midi', 'mini', 'overalls', 'overcoat', 'pant', 'pants',\n",
       "       'parka', 'peacoat', 'poncho', 'print', 'pullover', 'romper',\n",
       "       'sheath', 'shift', 'shirt', 'shirtdress', 'skirt', 'skirts',\n",
       "       'skort', 'suit', 'sweater', 'sweatershirt', 'sweatpants',\n",
       "       'sweatshirt', 't-shirt', 'tank', 'tee', 'tight', 'top', 'trench',\n",
       "       'trouser', 'trousers', 'tunic', 'turtleneck', 'vest'], dtype='<U12')"
      ]
     },
     "execution_count": 15,
     "metadata": {},
     "output_type": "execute_result"
    }
   ],
   "source": [
    "categorys"
   ]
  },
  {
   "cell_type": "markdown",
   "metadata": {},
   "source": [
    "There are some repeated meaning category, so we need to stem the category"
   ]
  },
  {
   "cell_type": "code",
   "execution_count": 16,
   "metadata": {},
   "outputs": [],
   "source": [
    "stemmer = PorterStemmer()"
   ]
  },
  {
   "cell_type": "code",
   "execution_count": 17,
   "metadata": {},
   "outputs": [],
   "source": [
    "category_stem= np.unique([stemmer.stem(w['category'])for w in data_renttherunway])\n",
    "categorystemId = dict(zip(categorys, \n",
    "                  range(len(categorys))))"
   ]
  },
  {
   "cell_type": "code",
   "execution_count": 26,
   "metadata": {
    "scrolled": true
   },
   "outputs": [
    {
     "data": {
      "text/plain": [
       "array(['ballgown', 'blazer', 'blous', 'blouson', 'bomber', 'buttondown',\n",
       "       'caftan', 'cami', 'cape', 'cardigan', 'coat', 'combo', 'crewneck',\n",
       "       'culott', 'down', 'dress', 'duster', 'for', 'frock', 'gown',\n",
       "       'henley', 'hoodi', 'jacket', 'jean', 'jogger', 'jumpsuit',\n",
       "       'kaftan', 'kimono', 'knit', 'leg', 'maxi', 'midi', 'mini',\n",
       "       'overal', 'overcoat', 'pant', 'parka', 'peacoat', 'poncho',\n",
       "       'print', 'pullov', 'romper', 'sheath', 'shift', 'shirt',\n",
       "       'shirtdress', 'skirt', 'skort', 'suit', 'sweater', 'sweatershirt',\n",
       "       'sweatpant', 'sweatshirt', 't-shirt', 'tank', 'tee', 'tight',\n",
       "       'top', 'trench', 'trouser', 'tunic', 'turtleneck', 'vest'],\n",
       "      dtype='<U12')"
      ]
     },
     "execution_count": 26,
     "metadata": {},
     "output_type": "execute_result"
    }
   ],
   "source": [
    "category_stem"
   ]
  },
  {
   "cell_type": "code",
   "execution_count": 36,
   "metadata": {},
   "outputs": [],
   "source": [
    "def category_identity (category):\n",
    "    poncho = ['poncho','crewneck','cape']\n",
    "    coat = ['coat','peacoat','overcoat','suit','blazer','bomber','jacket','parka','tunic']\n",
    "    tshirt = ['t-shirt','tee','shirt','shift','shirtdress','skirt','skort','top','vest','blous','blouson','cami','mini']\n",
    "    sweater = ['sweater','sweatershirt','sweatshirt','caftan','cardigan','henley','hoodi','midi','pullov']\n",
    "    culott = ['culott','frock','jumpsuit','ballgown','buttondown','combo','dress','gown','kaftan',\n",
    "              'kimono','maxi','romper','sheath','turtleneck']\n",
    "    overal = ['overal','duster','knit','print','tank','trench','for']\n",
    "    down = ['down','jean','jogger','leg','pant','sweatpant','tight','trouser',]\n",
    "    if category in poncho:\n",
    "        return 'poncho'\n",
    "    if category in coat:\n",
    "        return 'coat'\n",
    "    if category in tshirt:\n",
    "        return 'tshirt'\n",
    "    if category in sweater:\n",
    "        return 'sweater'\n",
    "    if category in culott:\n",
    "        return 'culott'\n",
    "    if category in overal:\n",
    "        return 'overal' \n",
    "    if category in down:\n",
    "        return 'down' \n",
    "    return category"
   ]
  },
  {
   "cell_type": "code",
   "execution_count": 37,
   "metadata": {},
   "outputs": [
    {
     "data": {
      "text/plain": [
       "array(['coat', 'culott', 'down', 'overal', 'poncho', 'sweater', 'tshirt'],\n",
       "      dtype='<U7')"
      ]
     },
     "execution_count": 37,
     "metadata": {},
     "output_type": "execute_result"
    }
   ],
   "source": [
    "np.unique(([category_identity(d) for d in category_stem]))"
   ]
  },
  {
   "cell_type": "code",
   "execution_count": 38,
   "metadata": {},
   "outputs": [],
   "source": [
    "cv = TfidfVectorizer(stop_words = 'english',ngram_range=(1,1),sublinear_tf = True)\n",
    "x_text_train = [d['review_text'] for d in train_set]\n",
    "x_train_cv = cv.fit_transform(x_text_train)"
   ]
  },
  {
   "cell_type": "code",
   "execution_count": 39,
   "metadata": {},
   "outputs": [
    {
     "data": {
      "text/plain": [
       "<173289x26893 sparse matrix of type '<class 'numpy.float64'>'\n",
       "\twith 3919507 stored elements in Compressed Sparse Row format>"
      ]
     },
     "execution_count": 39,
     "metadata": {},
     "output_type": "execute_result"
    }
   ],
   "source": [
    "x_train_cv"
   ]
  },
  {
   "cell_type": "markdown",
   "metadata": {},
   "source": [
    "Moreover, there is still has some repeated categories such as t_shirt and tee, blous and blouson, sweater, sweatershirt and sweatshirt. Therefore, we need to clear the category type futher"
   ]
  },
  {
   "cell_type": "code",
   "execution_count": 120,
   "metadata": {},
   "outputs": [],
   "source": [
    "x_text_train = [d['review_text'] for d in train_set]\n",
    "y_text_train = [d['category'] for d in train_set]\n",
    "x_text_test = [d['review_text'] for d in validation_set]\n",
    "y_text_test = [d['category'] for d in validation_set]"
   ]
  },
  {
   "cell_type": "code",
   "execution_count": null,
   "metadata": {},
   "outputs": [],
   "source": []
  }
 ],
 "metadata": {
  "kernelspec": {
   "display_name": "Python 3",
   "language": "python",
   "name": "python3"
  },
  "language_info": {
   "codemirror_mode": {
    "name": "ipython",
    "version": 3
   },
   "file_extension": ".py",
   "mimetype": "text/x-python",
   "name": "python",
   "nbconvert_exporter": "python",
   "pygments_lexer": "ipython3",
   "version": "3.7.6"
  }
 },
 "nbformat": 4,
 "nbformat_minor": 4
}
