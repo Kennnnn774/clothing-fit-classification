{
 "cells": [
  {
   "cell_type": "code",
   "execution_count": 33,
   "metadata": {},
   "outputs": [
    {
     "name": "stderr",
     "output_type": "stream",
     "text": [
      "[nltk_data] Downloading package punkt to\n",
      "[nltk_data]     C:\\Users\\Kennnnnnn\\AppData\\Roaming\\nltk_data...\n",
      "[nltk_data]   Package punkt is already up-to-date!\n"
     ]
    }
   ],
   "source": [
    "import numpy as np\n",
    "import math\n",
    "import pandas as pd\n",
    "import matplotlib.pyplot as plt\n",
    "import gzip\n",
    "from collections import defaultdict\n",
    "import random\n",
    "\n",
    "from sklearn.feature_extraction.text import TfidfVectorizer\n",
    "import urllib\n",
    "import scipy.optimize\n",
    "from collections import defaultdict # Dictionaries with default values\n",
    "import nltk\n",
    "import string\n",
    "from nltk.stem.porter import *\n",
    "from sklearn import linear_model\n",
    "import ast\n",
    "\n",
    "from sklearn.linear_model import LinearRegression\n",
    "from sklearn.preprocessing import FunctionTransformer\n",
    "from sklearn.preprocessing import OneHotEncoder\n",
    "from sklearn.pipeline import Pipeline\n",
    "from sklearn.compose import ColumnTransformer\n",
    "\n",
    "from sklearn.tree import DecisionTreeRegressor\n",
    "from sklearn.ensemble import RandomForestClassifier\n",
    "from sklearn.model_selection import train_test_split\n",
    "from sklearn.neighbors import KNeighborsRegressor\n",
    "from sklearn.model_selection import train_test_split\n",
    "\n",
    "from sklearn.feature_extraction.text import TfidfTransformer\n",
    "from sklearn.feature_extraction.text import CountVectorizer\n",
    "import nltk\n",
    "nltk.download('punkt')\n",
    "from nltk.tokenize import word_tokenize\n",
    "from nltk.corpus import stopwords\n",
    "from sklearn.feature_extraction.text import CountVectorizer, TfidfVectorizer\n",
    "from sklearn.metrics import classification_report, precision_recall_fscore_support\n",
    "\n",
    "from sklearn.linear_model import LogisticRegression"
   ]
  },
  {
   "cell_type": "code",
   "execution_count": 34,
   "metadata": {},
   "outputs": [],
   "source": [
    "rent = pd.read_csv('clean.csv')\n",
    "rent.review_summary = rent.review_summary.fillna('')\n",
    "rent.review_text = rent.review_text.fillna('')"
   ]
  },
  {
   "cell_type": "code",
   "execution_count": 35,
   "metadata": {},
   "outputs": [],
   "source": [
    "rent = rent.sample(frac=1).reset_index(drop=True)\n",
    "train = rent[:180000]\n",
    "valid = rent[180000:]"
   ]
  },
  {
   "cell_type": "code",
   "execution_count": 36,
   "metadata": {},
   "outputs": [],
   "source": [
    "y_train = train.fit\n",
    "y_valid = valid.fit"
   ]
  },
  {
   "cell_type": "code",
   "execution_count": 37,
   "metadata": {},
   "outputs": [
    {
     "data": {
      "text/plain": [
       "array(['date', 'everyday', 'formal affair', 'other', 'party',\n",
       "       'party: cocktail', 'vacation', 'wedding', 'work'], dtype=object)"
      ]
     },
     "execution_count": 37,
     "metadata": {},
     "output_type": "execute_result"
    }
   ],
   "source": [
    "np.unique(rent['rented for'])"
   ]
  },
  {
   "cell_type": "code",
   "execution_count": 38,
   "metadata": {},
   "outputs": [
    {
     "data": {
      "text/plain": [
       "array(['apple', 'athletic', 'full bust', 'hourglass', 'other', 'pear',\n",
       "       'petite', 'straight & narrow'], dtype=object)"
      ]
     },
     "execution_count": 38,
     "metadata": {},
     "output_type": "execute_result"
    }
   ],
   "source": [
    "np.unique(rent['body type'])"
   ]
  },
  {
   "cell_type": "code",
   "execution_count": 39,
   "metadata": {},
   "outputs": [
    {
     "data": {
      "text/plain": [
       "array(['a', 'aa', 'b', 'c', 'd', 'd+', 'dd', 'ddd/e', 'f', 'g', 'h', 'i',\n",
       "       'j'], dtype=object)"
      ]
     },
     "execution_count": 39,
     "metadata": {},
     "output_type": "execute_result"
    }
   ],
   "source": [
    "np.unique(rent['bust_char'])"
   ]
  },
  {
   "cell_type": "code",
   "execution_count": 41,
   "metadata": {},
   "outputs": [
    {
     "data": {
      "text/plain": [
       "array(['bot', 'long', 'top_long', 'top_short'], dtype=object)"
      ]
     },
     "execution_count": 41,
     "metadata": {},
     "output_type": "execute_result"
    }
   ],
   "source": [
    "np.unique(rent['category'])"
   ]
  },
  {
   "cell_type": "code",
   "execution_count": 45,
   "metadata": {},
   "outputs": [
    {
     "data": {
      "text/html": [
       "<div>\n",
       "<style scoped>\n",
       "    .dataframe tbody tr th:only-of-type {\n",
       "        vertical-align: middle;\n",
       "    }\n",
       "\n",
       "    .dataframe tbody tr th {\n",
       "        vertical-align: top;\n",
       "    }\n",
       "\n",
       "    .dataframe thead th {\n",
       "        text-align: right;\n",
       "    }\n",
       "</style>\n",
       "<table border=\"1\" class=\"dataframe\">\n",
       "  <thead>\n",
       "    <tr style=\"text-align: right;\">\n",
       "      <th></th>\n",
       "      <th>fit</th>\n",
       "      <th>user_id</th>\n",
       "      <th>item_id</th>\n",
       "      <th>weight</th>\n",
       "      <th>rating</th>\n",
       "      <th>rented for</th>\n",
       "      <th>review_text</th>\n",
       "      <th>body type</th>\n",
       "      <th>review_summary</th>\n",
       "      <th>category</th>\n",
       "      <th>height</th>\n",
       "      <th>size</th>\n",
       "      <th>age</th>\n",
       "      <th>review_date</th>\n",
       "      <th>bust_num</th>\n",
       "      <th>bust_char</th>\n",
       "    </tr>\n",
       "  </thead>\n",
       "  <tbody>\n",
       "    <tr>\n",
       "      <th>0</th>\n",
       "      <td>fit</td>\n",
       "      <td>940999</td>\n",
       "      <td>145417</td>\n",
       "      <td>-11.3375</td>\n",
       "      <td>10.0</td>\n",
       "      <td>work</td>\n",
       "      <td>Would rent again</td>\n",
       "      <td>petite</td>\n",
       "      <td>Hot dress.. Form fitting. You can see the bra ...</td>\n",
       "      <td>long</td>\n",
       "      <td>-3.33</td>\n",
       "      <td>-8.245175</td>\n",
       "      <td>3.496508</td>\n",
       "      <td>May 31, 2016</td>\n",
       "      <td>32</td>\n",
       "      <td>c</td>\n",
       "    </tr>\n",
       "    <tr>\n",
       "      <th>1</th>\n",
       "      <td>fit</td>\n",
       "      <td>709700</td>\n",
       "      <td>150138</td>\n",
       "      <td>3.6280</td>\n",
       "      <td>8.0</td>\n",
       "      <td>formal affair</td>\n",
       "      <td>I am 5'4, about 145 lbs.  The forearms were a ...</td>\n",
       "      <td>apple</td>\n",
       "      <td>I felt like Cinderella.  The dress was just pe...</td>\n",
       "      <td>long</td>\n",
       "      <td>-3.33</td>\n",
       "      <td>7.754825</td>\n",
       "      <td>4.276666</td>\n",
       "      <td>February 27, 2014</td>\n",
       "      <td>34</td>\n",
       "      <td>b</td>\n",
       "    </tr>\n",
       "    <tr>\n",
       "      <th>2</th>\n",
       "      <td>fit</td>\n",
       "      <td>933857</td>\n",
       "      <td>1076484</td>\n",
       "      <td>1.3605</td>\n",
       "      <td>10.0</td>\n",
       "      <td>wedding</td>\n",
       "      <td>Absolutely loved it! So comfortable. The bust ...</td>\n",
       "      <td>other</td>\n",
       "      <td>Outdoor summer wedding. Great dress when you w...</td>\n",
       "      <td>long</td>\n",
       "      <td>1.75</td>\n",
       "      <td>-4.245175</td>\n",
       "      <td>3.713572</td>\n",
       "      <td>November 2, 2016</td>\n",
       "      <td>36</td>\n",
       "      <td>c</td>\n",
       "    </tr>\n",
       "    <tr>\n",
       "      <th>3</th>\n",
       "      <td>fit</td>\n",
       "      <td>717963</td>\n",
       "      <td>2457608</td>\n",
       "      <td>0.0000</td>\n",
       "      <td>10.0</td>\n",
       "      <td>everyday</td>\n",
       "      <td>Well-made, whimsical spin on a bomber jacket, ...</td>\n",
       "      <td>petite</td>\n",
       "      <td>=Maternity Review= Well-made and whimsical</td>\n",
       "      <td>top_long</td>\n",
       "      <td>-5.87</td>\n",
       "      <td>-4.245175</td>\n",
       "      <td>3.433987</td>\n",
       "      <td>October 5, 2017</td>\n",
       "      <td>34</td>\n",
       "      <td>b</td>\n",
       "    </tr>\n",
       "    <tr>\n",
       "      <th>4</th>\n",
       "      <td>fit</td>\n",
       "      <td>867451</td>\n",
       "      <td>126335</td>\n",
       "      <td>-3.1745</td>\n",
       "      <td>10.0</td>\n",
       "      <td>wedding</td>\n",
       "      <td>The dress arrived 1 day earlier so I had time ...</td>\n",
       "      <td>hourglass</td>\n",
       "      <td>This was my first RTR experience and I was so ...</td>\n",
       "      <td>long</td>\n",
       "      <td>9.37</td>\n",
       "      <td>-4.245175</td>\n",
       "      <td>3.637586</td>\n",
       "      <td>June 8, 2015</td>\n",
       "      <td>34</td>\n",
       "      <td>d+</td>\n",
       "    </tr>\n",
       "    <tr>\n",
       "      <th>...</th>\n",
       "      <td>...</td>\n",
       "      <td>...</td>\n",
       "      <td>...</td>\n",
       "      <td>...</td>\n",
       "      <td>...</td>\n",
       "      <td>...</td>\n",
       "      <td>...</td>\n",
       "      <td>...</td>\n",
       "      <td>...</td>\n",
       "      <td>...</td>\n",
       "      <td>...</td>\n",
       "      <td>...</td>\n",
       "      <td>...</td>\n",
       "      <td>...</td>\n",
       "      <td>...</td>\n",
       "      <td>...</td>\n",
       "    </tr>\n",
       "    <tr>\n",
       "      <th>192539</th>\n",
       "      <td>large</td>\n",
       "      <td>214703</td>\n",
       "      <td>2120468</td>\n",
       "      <td>-11.3375</td>\n",
       "      <td>10.0</td>\n",
       "      <td>work</td>\n",
       "      <td>The sleeves on this were a little long for me,...</td>\n",
       "      <td>apple</td>\n",
       "      <td>Great for work!</td>\n",
       "      <td>top_long</td>\n",
       "      <td>-13.49</td>\n",
       "      <td>-4.245175</td>\n",
       "      <td>3.583519</td>\n",
       "      <td>June 14, 2016</td>\n",
       "      <td>34</td>\n",
       "      <td>c</td>\n",
       "    </tr>\n",
       "    <tr>\n",
       "      <th>192540</th>\n",
       "      <td>fit</td>\n",
       "      <td>335054</td>\n",
       "      <td>532135</td>\n",
       "      <td>5.8955</td>\n",
       "      <td>10.0</td>\n",
       "      <td>party</td>\n",
       "      <td>In a sea of tight dresses, I felt like a milli...</td>\n",
       "      <td>hourglass</td>\n",
       "      <td>So sophisticated!</td>\n",
       "      <td>long</td>\n",
       "      <td>-8.41</td>\n",
       "      <td>7.754825</td>\n",
       "      <td>3.583519</td>\n",
       "      <td>July 6, 2015</td>\n",
       "      <td>36</td>\n",
       "      <td>b</td>\n",
       "    </tr>\n",
       "    <tr>\n",
       "      <th>192541</th>\n",
       "      <td>fit</td>\n",
       "      <td>589338</td>\n",
       "      <td>1543130</td>\n",
       "      <td>0.0000</td>\n",
       "      <td>10.0</td>\n",
       "      <td>wedding</td>\n",
       "      <td>True to fit, I'm a big chested girl and didn't...</td>\n",
       "      <td>hourglass</td>\n",
       "      <td>Received a lot of compliments on the dress and...</td>\n",
       "      <td>long</td>\n",
       "      <td>1.75</td>\n",
       "      <td>-0.245175</td>\n",
       "      <td>3.367296</td>\n",
       "      <td>September 22, 2016</td>\n",
       "      <td>36</td>\n",
       "      <td>d</td>\n",
       "    </tr>\n",
       "    <tr>\n",
       "      <th>192542</th>\n",
       "      <td>small</td>\n",
       "      <td>412302</td>\n",
       "      <td>1353811</td>\n",
       "      <td>10.4305</td>\n",
       "      <td>10.0</td>\n",
       "      <td>wedding</td>\n",
       "      <td>I wore this dress to a formal wedding. It’s be...</td>\n",
       "      <td>hourglass</td>\n",
       "      <td>Beautiful dress for a formal event</td>\n",
       "      <td>long</td>\n",
       "      <td>-0.79</td>\n",
       "      <td>7.754825</td>\n",
       "      <td>3.737670</td>\n",
       "      <td>October 16, 2017</td>\n",
       "      <td>32</td>\n",
       "      <td>f</td>\n",
       "    </tr>\n",
       "    <tr>\n",
       "      <th>192543</th>\n",
       "      <td>large</td>\n",
       "      <td>740312</td>\n",
       "      <td>139086</td>\n",
       "      <td>5.8955</td>\n",
       "      <td>10.0</td>\n",
       "      <td>formal affair</td>\n",
       "      <td>I got the 8L and 6L sizes. I usually wear an 8...</td>\n",
       "      <td>athletic</td>\n",
       "      <td>This dress makes you feel like you are a movie...</td>\n",
       "      <td>long</td>\n",
       "      <td>1.75</td>\n",
       "      <td>0.754825</td>\n",
       "      <td>3.784190</td>\n",
       "      <td>November 5, 2012</td>\n",
       "      <td>36</td>\n",
       "      <td>c</td>\n",
       "    </tr>\n",
       "  </tbody>\n",
       "</table>\n",
       "<p>192544 rows × 16 columns</p>\n",
       "</div>"
      ],
      "text/plain": [
       "          fit  user_id  item_id   weight  rating     rented for  \\\n",
       "0         fit   940999   145417 -11.3375    10.0           work   \n",
       "1         fit   709700   150138   3.6280     8.0  formal affair   \n",
       "2         fit   933857  1076484   1.3605    10.0        wedding   \n",
       "3         fit   717963  2457608   0.0000    10.0       everyday   \n",
       "4         fit   867451   126335  -3.1745    10.0        wedding   \n",
       "...       ...      ...      ...      ...     ...            ...   \n",
       "192539  large   214703  2120468 -11.3375    10.0           work   \n",
       "192540    fit   335054   532135   5.8955    10.0          party   \n",
       "192541    fit   589338  1543130   0.0000    10.0        wedding   \n",
       "192542  small   412302  1353811  10.4305    10.0        wedding   \n",
       "192543  large   740312   139086   5.8955    10.0  formal affair   \n",
       "\n",
       "                                              review_text  body type  \\\n",
       "0                                        Would rent again     petite   \n",
       "1       I am 5'4, about 145 lbs.  The forearms were a ...      apple   \n",
       "2       Absolutely loved it! So comfortable. The bust ...      other   \n",
       "3       Well-made, whimsical spin on a bomber jacket, ...     petite   \n",
       "4       The dress arrived 1 day earlier so I had time ...  hourglass   \n",
       "...                                                   ...        ...   \n",
       "192539  The sleeves on this were a little long for me,...      apple   \n",
       "192540  In a sea of tight dresses, I felt like a milli...  hourglass   \n",
       "192541  True to fit, I'm a big chested girl and didn't...  hourglass   \n",
       "192542  I wore this dress to a formal wedding. It’s be...  hourglass   \n",
       "192543  I got the 8L and 6L sizes. I usually wear an 8...   athletic   \n",
       "\n",
       "                                           review_summary  category  height  \\\n",
       "0       Hot dress.. Form fitting. You can see the bra ...      long   -3.33   \n",
       "1       I felt like Cinderella.  The dress was just pe...      long   -3.33   \n",
       "2       Outdoor summer wedding. Great dress when you w...      long    1.75   \n",
       "3             =Maternity Review= Well-made and whimsical   top_long   -5.87   \n",
       "4       This was my first RTR experience and I was so ...      long    9.37   \n",
       "...                                                   ...       ...     ...   \n",
       "192539                                    Great for work!  top_long  -13.49   \n",
       "192540                                  So sophisticated!      long   -8.41   \n",
       "192541  Received a lot of compliments on the dress and...      long    1.75   \n",
       "192542                Beautiful dress for a formal event       long   -0.79   \n",
       "192543  This dress makes you feel like you are a movie...      long    1.75   \n",
       "\n",
       "            size       age         review_date  bust_num bust_char  \n",
       "0      -8.245175  3.496508        May 31, 2016        32         c  \n",
       "1       7.754825  4.276666   February 27, 2014        34         b  \n",
       "2      -4.245175  3.713572    November 2, 2016        36         c  \n",
       "3      -4.245175  3.433987     October 5, 2017        34         b  \n",
       "4      -4.245175  3.637586        June 8, 2015        34        d+  \n",
       "...          ...       ...                 ...       ...       ...  \n",
       "192539 -4.245175  3.583519       June 14, 2016        34         c  \n",
       "192540  7.754825  3.583519        July 6, 2015        36         b  \n",
       "192541 -0.245175  3.367296  September 22, 2016        36         d  \n",
       "192542  7.754825  3.737670    October 16, 2017        32         f  \n",
       "192543  0.754825  3.784190    November 5, 2012        36         c  \n",
       "\n",
       "[192544 rows x 16 columns]"
      ]
     },
     "execution_count": 45,
     "metadata": {},
     "output_type": "execute_result"
    }
   ],
   "source": [
    "rent"
   ]
  },
  {
   "cell_type": "code",
   "execution_count": 112,
   "metadata": {},
   "outputs": [
    {
     "data": {
      "text/plain": [
       "array([[3.49650756],\n",
       "       [4.27666612],\n",
       "       [3.71357207],\n",
       "       ...,\n",
       "       [3.36729583],\n",
       "       [3.73766962],\n",
       "       [3.78418963]])"
      ]
     },
     "execution_count": 112,
     "metadata": {},
     "output_type": "execute_result"
    }
   ],
   "source": [
    "rent[['age']].to_numpy()"
   ]
  },
  {
   "cell_type": "code",
   "execution_count": 82,
   "metadata": {},
   "outputs": [],
   "source": [
    "rented_for_one= pd.get_dummies(rent['rented for'], prefix='rented for')\n",
    "category_one = pd.get_dummies(rent['category'], prefix='category')\n",
    "bust_char_one = pd.get_dummies(rent['bust_char'], prefix='bust_char')\n",
    "body_type_one = pd.get_dummies(rent['body type'], prefix='body type')"
   ]
  },
  {
   "cell_type": "code",
   "execution_count": 115,
   "metadata": {},
   "outputs": [],
   "source": [
    "#rented_for\n",
    "rented_for_train = rented_for_one[:180000].to_numpy()\n",
    "rented_for_valid = rented_for_one[180000:].to_numpy()\n",
    "\n",
    "#category\n",
    "category_one_train = category_one[:180000].to_numpy()\n",
    "category_one_valid = category_one[180000:].to_numpy()\n",
    "\n",
    "#bust_num\n",
    "bust_num_train = train[['bust_num']].to_numpy()\n",
    "bust_num_valid = valid[['bust_num']].to_numpy()\n",
    "\n",
    "#bust_char\n",
    "bust_char_for_train = bust_char_one[:180000].to_numpy()\n",
    "bust_char_for_valid = bust_char_one[180000:].to_numpy()\n",
    "\n",
    "#body_type\n",
    "body_type_train = body_type_one[:180000].to_numpy()\n",
    "body_type_valid = body_type_one[180000:].to_numpy()\n",
    "\n",
    "#age\n",
    "age_train = train[['age']].to_numpy()\n",
    "age_valid = valid[['age']].to_numpy()\n",
    "\n",
    "#size\n",
    "size_train = train[['size']].to_numpy()\n",
    "size_valid = valid[['size']].to_numpy()\n",
    "\n",
    "#weight\n",
    "weight_train = train[['weight']].to_numpy()\n",
    "weight_valid = valid[['weight']].to_numpy()\n",
    "\n",
    "#height\n",
    "height_train = train[['height']].to_numpy()\n",
    "height_valid = valid[['height']].to_numpy()\n",
    "\n",
    "#rating\n",
    "rating_train = train[['rating']].to_numpy()\n",
    "rating_valid = valid[['rating']].to_numpy()\n"
   ]
  },
  {
   "cell_type": "code",
   "execution_count": 90,
   "metadata": {},
   "outputs": [],
   "source": [
    "tfidf = TfidfVectorizer(stop_words = 'english', sublinear_tf = True, max_features = 1000, tokenizer = word_tokenize) \n",
    "Train_X_summary = tfidf.fit_transform(train.review_summary).toarray()"
   ]
  },
  {
   "cell_type": "code",
   "execution_count": 91,
   "metadata": {},
   "outputs": [],
   "source": [
    "tfidf2 = TfidfVectorizer(stop_words = 'english', sublinear_tf = True, max_features = 1000, tokenizer = word_tokenize) \n",
    "Train_X_text = tfidf2.fit_transform(train.review_text).toarray()"
   ]
  },
  {
   "cell_type": "code",
   "execution_count": 113,
   "metadata": {},
   "outputs": [],
   "source": [
    "combined_text = np.hstack((Train_X_summary, Train_X_text))"
   ]
  },
  {
   "cell_type": "code",
   "execution_count": 116,
   "metadata": {},
   "outputs": [],
   "source": [
    "other_feature = np.hstack((rented_for_train,category_one_train,bust_num_train,\n",
    "                           bust_char_for_train,body_type_train,age_train,size_train,\n",
    "                           weight_train,height_train,rating_train))"
   ]
  },
  {
   "cell_type": "code",
   "execution_count": 119,
   "metadata": {},
   "outputs": [
    {
     "data": {
      "text/plain": [
       "(180000, 2000)"
      ]
     },
     "execution_count": 119,
     "metadata": {},
     "output_type": "execute_result"
    }
   ],
   "source": [
    "combined_text.shape"
   ]
  },
  {
   "cell_type": "code",
   "execution_count": 120,
   "metadata": {},
   "outputs": [
    {
     "data": {
      "text/plain": [
       "(180000, 40)"
      ]
     },
     "execution_count": 120,
     "metadata": {},
     "output_type": "execute_result"
    }
   ],
   "source": [
    "other_feature.shape"
   ]
  },
  {
   "cell_type": "code",
   "execution_count": 121,
   "metadata": {},
   "outputs": [],
   "source": [
    "lstsss = []\n",
    "for i in range(180000):\n",
    "    lst = list(combined_text[i]) + list(other_feature[i])\n",
    "    lstsss.append(lst)"
   ]
  },
  {
   "cell_type": "code",
   "execution_count": 122,
   "metadata": {},
   "outputs": [],
   "source": [
    "Valid_X_summary = tfidf.transform(valid.review_summary).toarray()"
   ]
  },
  {
   "cell_type": "code",
   "execution_count": 123,
   "metadata": {},
   "outputs": [],
   "source": [
    "Valid_X_text = tfidf2.transform(valid.review_text).toarray()"
   ]
  },
  {
   "cell_type": "code",
   "execution_count": 124,
   "metadata": {},
   "outputs": [],
   "source": [
    "combined_text_valid = np.hstack((Valid_X_summary, Valid_X_text))"
   ]
  },
  {
   "cell_type": "code",
   "execution_count": 125,
   "metadata": {},
   "outputs": [],
   "source": [
    "other_feature_valid = np.hstack((rented_for_valid,category_one_valid,bust_num_valid,\n",
    "                                 bust_char_for_valid,body_type_valid,age_valid,size_valid,\n",
    "                                weight_valid,height_valid,rating_valid))"
   ]
  },
  {
   "cell_type": "code",
   "execution_count": 126,
   "metadata": {},
   "outputs": [
    {
     "data": {
      "text/plain": [
       "(12544, 2000)"
      ]
     },
     "execution_count": 126,
     "metadata": {},
     "output_type": "execute_result"
    }
   ],
   "source": [
    "combined_text_valid.shape"
   ]
  },
  {
   "cell_type": "code",
   "execution_count": 127,
   "metadata": {},
   "outputs": [
    {
     "data": {
      "text/plain": [
       "(12544, 40)"
      ]
     },
     "execution_count": 127,
     "metadata": {},
     "output_type": "execute_result"
    }
   ],
   "source": [
    "other_feature_valid.shape"
   ]
  },
  {
   "cell_type": "code",
   "execution_count": 128,
   "metadata": {},
   "outputs": [],
   "source": [
    "lstsss_valid = []\n",
    "for i in range(12544):\n",
    "    lst = list(combined_text_valid[i]) + list(other_feature_valid[i])\n",
    "    lstsss_valid.append(lst)"
   ]
  },
  {
   "cell_type": "code",
   "execution_count": 129,
   "metadata": {},
   "outputs": [],
   "source": [
    "final_feature = lstsss"
   ]
  },
  {
   "cell_type": "code",
   "execution_count": 130,
   "metadata": {},
   "outputs": [
    {
     "name": "stderr",
     "output_type": "stream",
     "text": [
      "C:\\Users\\Kennnnnnn\\anaconda3\\lib\\site-packages\\sklearn\\linear_model\\_logistic.py:940: ConvergenceWarning: lbfgs failed to converge (status=1):\n",
      "STOP: TOTAL NO. of ITERATIONS REACHED LIMIT.\n",
      "\n",
      "Increase the number of iterations (max_iter) or scale the data as shown in:\n",
      "    https://scikit-learn.org/stable/modules/preprocessing.html\n",
      "Please also refer to the documentation for alternative solver options:\n",
      "    https://scikit-learn.org/stable/modules/linear_model.html#logistic-regression\n",
      "  extra_warning_msg=_LOGISTIC_SOLVER_CONVERGENCE_MSG)\n"
     ]
    },
    {
     "data": {
      "text/plain": [
       "LogisticRegression(C=1.0, class_weight=None, dual=False, fit_intercept=True,\n",
       "                   intercept_scaling=1, l1_ratio=None, max_iter=100,\n",
       "                   multi_class='auto', n_jobs=None, penalty='l2',\n",
       "                   random_state=None, solver='lbfgs', tol=0.0001, verbose=0,\n",
       "                   warm_start=False)"
      ]
     },
     "execution_count": 130,
     "metadata": {},
     "output_type": "execute_result"
    }
   ],
   "source": [
    "clf = LogisticRegression()\n",
    "clf.fit(final_feature, y_train)"
   ]
  },
  {
   "cell_type": "code",
   "execution_count": 131,
   "metadata": {},
   "outputs": [
    {
     "data": {
      "text/plain": [
       "0.7692920918367347"
      ]
     },
     "execution_count": 131,
     "metadata": {},
     "output_type": "execute_result"
    }
   ],
   "source": [
    "clf.score(lstsss_valid, y_valid)"
   ]
  },
  {
   "cell_type": "code",
   "execution_count": 20,
   "metadata": {},
   "outputs": [
    {
     "data": {
      "text/plain": [
       "fit      9235\n",
       "small    1698\n",
       "large    1611\n",
       "Name: fit, dtype: int64"
      ]
     },
     "execution_count": 20,
     "metadata": {},
     "output_type": "execute_result"
    }
   ],
   "source": [
    "y_valid.value_counts()"
   ]
  },
  {
   "cell_type": "code",
   "execution_count": 21,
   "metadata": {},
   "outputs": [
    {
     "data": {
      "text/plain": [
       "0.7362085459183674"
      ]
     },
     "execution_count": 21,
     "metadata": {},
     "output_type": "execute_result"
    }
   ],
   "source": [
    "9235 / (len(y_valid))"
   ]
  },
  {
   "cell_type": "code",
   "execution_count": 22,
   "metadata": {},
   "outputs": [
    {
     "data": {
      "text/plain": [
       "LogisticRegression(C=0.1, class_weight=None, dual=False, fit_intercept=True,\n",
       "                   intercept_scaling=1, l1_ratio=None, max_iter=10000,\n",
       "                   multi_class='auto', n_jobs=None, penalty='l2',\n",
       "                   random_state=None, solver='lbfgs', tol=0.0001, verbose=0,\n",
       "                   warm_start=False)"
      ]
     },
     "execution_count": 22,
     "metadata": {},
     "output_type": "execute_result"
    }
   ],
   "source": [
    "clf = LogisticRegression(max_iter = 10000, C=0.1)\n",
    "clf.fit(combined_text, y_train)"
   ]
  },
  {
   "cell_type": "code",
   "execution_count": 23,
   "metadata": {},
   "outputs": [
    {
     "data": {
      "text/plain": [
       "0.8038903061224489"
      ]
     },
     "execution_count": 23,
     "metadata": {},
     "output_type": "execute_result"
    }
   ],
   "source": [
    "clf.score(combined_text_valid, y_valid)"
   ]
  },
  {
   "cell_type": "code",
   "execution_count": null,
   "metadata": {},
   "outputs": [],
   "source": []
  }
 ],
 "metadata": {
  "kernelspec": {
   "display_name": "Python 3",
   "language": "python",
   "name": "python3"
  },
  "language_info": {
   "codemirror_mode": {
    "name": "ipython",
    "version": 3
   },
   "file_extension": ".py",
   "mimetype": "text/x-python",
   "name": "python",
   "nbconvert_exporter": "python",
   "pygments_lexer": "ipython3",
   "version": "3.7.6"
  }
 },
 "nbformat": 4,
 "nbformat_minor": 4
}
