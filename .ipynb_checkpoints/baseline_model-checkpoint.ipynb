{
 "cells": [
  {
   "cell_type": "code",
   "execution_count": 33,
   "metadata": {},
   "outputs": [],
   "source": [
    "import numpy as np\n",
    "import math\n",
    "import pandas as pd\n",
    "import matplotlib.pyplot as plt\n",
    "import gzip\n",
    "from collections import defaultdict\n",
    "import random\n",
    "def parseData(fname):\n",
    "    for l in open(fname):\n",
    "        yield eval(l)\n"
   ]
  },
  {
   "cell_type": "code",
   "execution_count": 34,
   "metadata": {},
   "outputs": [],
   "source": [
    "rent = []\n",
    "for l in open('renttherunway_final_data.json'):\n",
    "    try: rent.append(eval(l))\n",
    "    except: continue\n",
    "rent = pd.DataFrame(rent)\n",
    "def convert_weight(strin):\n",
    "    if isinstance(strin, str):\n",
    "        return float(strin.strip('lbs'))\n",
    "    else:\n",
    "        return strin\n",
    "rent.weight = rent.weight.apply(convert_weight).fillna(137)\n",
    "rent.rating = rent.rating.astype(float)\n",
    "rent['body type'] = rent['body type'].fillna('other')\n",
    "rent['bust size'] = rent['bust size'].fillna('other')\n",
    "rent['rented for'] = rent['rented for'].fillna('other')\n",
    "def convert_height(strin):\n",
    "    if isinstance(strin, str):\n",
    "        fet, inc = strin.split()\n",
    "        fet = float(fet.strip(\"'\").strip('\"'))\n",
    "        inc = float(inc.strip(\"'\").strip('\"'))\n",
    "        return fet * 0.3048 + inc * 0.0254\n",
    "    return np.NaN\n",
    "rent.height = rent.height.apply(convert_height).fillna(1.6589)\n",
    "rent['size'] = rent['size'].astype(float)\n",
    "def convert_age(xx):\n",
    "    if isinstance(xx, str):\n",
    "        return float(xx)\n",
    "    else:\n",
    "        return xx\n",
    "rent.age = rent.age.apply(convert_age).fillna(34)"
   ]
  },
  {
   "cell_type": "code",
   "execution_count": 35,
   "metadata": {},
   "outputs": [],
   "source": [
    "rent = rent.sample(frac=1).reset_index(drop=True)"
   ]
  },
  {
   "cell_type": "code",
   "execution_count": 36,
   "metadata": {},
   "outputs": [
    {
     "data": {
      "text/plain": [
       "192462"
      ]
     },
     "execution_count": 36,
     "metadata": {},
     "output_type": "execute_result"
    }
   ],
   "source": [
    "len(rent)"
   ]
  },
  {
   "cell_type": "code",
   "execution_count": 37,
   "metadata": {},
   "outputs": [],
   "source": [
    "train = rent[:150000]\n",
    "valid = rent[150000:170000]\n",
    "test = rent[170000:]"
   ]
  },
  {
   "cell_type": "code",
   "execution_count": 38,
   "metadata": {},
   "outputs": [],
   "source": [
    "float_col = ['weight', 'rating', 'height', 'size', 'age']"
   ]
  },
  {
   "cell_type": "code",
   "execution_count": 39,
   "metadata": {},
   "outputs": [],
   "source": [
    "X_train = np.array(train[float_col])\n",
    "X_valid = np.array(valid[float_col])"
   ]
  },
  {
   "cell_type": "code",
   "execution_count": 40,
   "metadata": {},
   "outputs": [],
   "source": [
    "y_train = train.fit\n",
    "y_valid = valid.fit"
   ]
  },
  {
   "cell_type": "code",
   "execution_count": 41,
   "metadata": {},
   "outputs": [],
   "source": [
    "from sklearn.linear_model import LogisticRegression"
   ]
  },
  {
   "cell_type": "code",
   "execution_count": 43,
   "metadata": {},
   "outputs": [],
   "source": [
    "clf = LogisticRegression(random_state=0, max_iter = 10000, C = 0.01).fit(X_train, y_train)"
   ]
  },
  {
   "cell_type": "code",
   "execution_count": 44,
   "metadata": {},
   "outputs": [
    {
     "data": {
      "text/plain": [
       "0.7411"
      ]
     },
     "execution_count": 44,
     "metadata": {},
     "output_type": "execute_result"
    }
   ],
   "source": [
    "clf.score(X_valid, y_valid)"
   ]
  }
 ],
 "metadata": {
  "kernelspec": {
   "display_name": "Python 3",
   "language": "python",
   "name": "python3"
  },
  "language_info": {
   "codemirror_mode": {
    "name": "ipython",
    "version": 3
   },
   "file_extension": ".py",
   "mimetype": "text/x-python",
   "name": "python",
   "nbconvert_exporter": "python",
   "pygments_lexer": "ipython3",
   "version": "3.7.6"
  }
 },
 "nbformat": 4,
 "nbformat_minor": 4
}
