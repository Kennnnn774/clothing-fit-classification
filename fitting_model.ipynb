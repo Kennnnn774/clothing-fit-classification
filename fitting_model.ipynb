{
 "cells": [
  {
   "cell_type": "code",
   "execution_count": 103,
   "metadata": {},
   "outputs": [
    {
     "name": "stderr",
     "output_type": "stream",
     "text": [
      "[nltk_data] Downloading package punkt to\n",
      "[nltk_data]     C:\\Users\\Kennnnnnn\\AppData\\Roaming\\nltk_data...\n",
      "[nltk_data]   Package punkt is already up-to-date!\n"
     ]
    }
   ],
   "source": [
    "import numpy as np\n",
    "import math\n",
    "import pandas as pd\n",
    "import matplotlib.pyplot as plt\n",
    "import gzip\n",
    "from collections import defaultdict\n",
    "import random\n",
    "\n",
    "from sklearn.feature_extraction.text import TfidfVectorizer\n",
    "import urllib\n",
    "import scipy.optimize\n",
    "from collections import defaultdict # Dictionaries with default values\n",
    "import nltk\n",
    "import string\n",
    "from nltk.stem.porter import *\n",
    "from sklearn import linear_model\n",
    "import ast\n",
    "\n",
    "from sklearn.linear_model import LinearRegression\n",
    "from sklearn.preprocessing import FunctionTransformer\n",
    "from sklearn.preprocessing import OneHotEncoder\n",
    "from sklearn.pipeline import Pipeline\n",
    "from sklearn.compose import ColumnTransformer\n",
    "\n",
    "from sklearn.tree import DecisionTreeRegressor\n",
    "from sklearn.ensemble import RandomForestClassifier\n",
    "from sklearn.model_selection import train_test_split\n",
    "from sklearn.neighbors import KNeighborsRegressor\n",
    "from sklearn.model_selection import train_test_split\n",
    "\n",
    "from sklearn.feature_extraction.text import TfidfTransformer\n",
    "from sklearn.feature_extraction.text import CountVectorizer\n",
    "import nltk\n",
    "nltk.download('punkt')\n",
    "from nltk.tokenize import word_tokenize\n",
    "from nltk.corpus import stopwords\n",
    "from sklearn.feature_extraction.text import CountVectorizer, TfidfVectorizer\n",
    "from sklearn.metrics import classification_report, precision_recall_fscore_support\n",
    "\n",
    "from sklearn.linear_model import LogisticRegression"
   ]
  },
  {
   "cell_type": "code",
   "execution_count": 104,
   "metadata": {},
   "outputs": [],
   "source": [
    "rent = pd.read_csv('clean.csv')\n",
    "rent.review_summary = rent.review_summary.fillna('')\n",
    "rent.review_text = rent.review_text.fillna('')"
   ]
  },
  {
   "cell_type": "code",
   "execution_count": 105,
   "metadata": {},
   "outputs": [],
   "source": [
    "rent = rent.sample(frac=1).reset_index(drop=True)\n",
    "train = rent[:180000]\n",
    "valid = rent[180000:]"
   ]
  },
  {
   "cell_type": "code",
   "execution_count": 210,
   "metadata": {},
   "outputs": [],
   "source": [
    "y_train = train.fit\n",
    "y_valid = valid.fit"
   ]
  },
  {
   "cell_type": "code",
   "execution_count": 111,
   "metadata": {},
   "outputs": [
    {
     "data": {
      "text/html": [
       "<div>\n",
       "<style scoped>\n",
       "    .dataframe tbody tr th:only-of-type {\n",
       "        vertical-align: middle;\n",
       "    }\n",
       "\n",
       "    .dataframe tbody tr th {\n",
       "        vertical-align: top;\n",
       "    }\n",
       "\n",
       "    .dataframe thead th {\n",
       "        text-align: right;\n",
       "    }\n",
       "</style>\n",
       "<table border=\"1\" class=\"dataframe\">\n",
       "  <thead>\n",
       "    <tr style=\"text-align: right;\">\n",
       "      <th></th>\n",
       "      <th>fit</th>\n",
       "      <th>user_id</th>\n",
       "      <th>item_id</th>\n",
       "      <th>weight</th>\n",
       "      <th>rating</th>\n",
       "      <th>rented for</th>\n",
       "      <th>review_text</th>\n",
       "      <th>body type</th>\n",
       "      <th>review_summary</th>\n",
       "      <th>category</th>\n",
       "      <th>height</th>\n",
       "      <th>size</th>\n",
       "      <th>age</th>\n",
       "      <th>review_date</th>\n",
       "      <th>bust_num</th>\n",
       "      <th>bust_char</th>\n",
       "    </tr>\n",
       "  </thead>\n",
       "  <tbody>\n",
       "    <tr>\n",
       "      <th>0</th>\n",
       "      <td>fit</td>\n",
       "      <td>105332</td>\n",
       "      <td>126335</td>\n",
       "      <td>21.7680</td>\n",
       "      <td>8.0</td>\n",
       "      <td>party</td>\n",
       "      <td>This dress was beautiful and made me feel like...</td>\n",
       "      <td>pear</td>\n",
       "      <td>I got so many compliments on this dress!</td>\n",
       "      <td>long</td>\n",
       "      <td>6.83</td>\n",
       "      <td>19.754825</td>\n",
       "      <td>3.583519</td>\n",
       "      <td>December 14, 2015</td>\n",
       "      <td>36</td>\n",
       "      <td>c</td>\n",
       "    </tr>\n",
       "    <tr>\n",
       "      <th>1</th>\n",
       "      <td>fit</td>\n",
       "      <td>655139</td>\n",
       "      <td>134393</td>\n",
       "      <td>-8.6165</td>\n",
       "      <td>8.0</td>\n",
       "      <td>wedding</td>\n",
       "      <td>It was a little large in the bust area, but it...</td>\n",
       "      <td>straight &amp; narrow</td>\n",
       "      <td>I loved the shine and the fabric.</td>\n",
       "      <td>long</td>\n",
       "      <td>1.75</td>\n",
       "      <td>-4.245175</td>\n",
       "      <td>3.555348</td>\n",
       "      <td>June 13, 2015</td>\n",
       "      <td>36</td>\n",
       "      <td>c</td>\n",
       "    </tr>\n",
       "    <tr>\n",
       "      <th>2</th>\n",
       "      <td>fit</td>\n",
       "      <td>104746</td>\n",
       "      <td>573147</td>\n",
       "      <td>-5.4420</td>\n",
       "      <td>8.0</td>\n",
       "      <td>formal affair</td>\n",
       "      <td>This dress was so pretty ugh. I honestly didn'...</td>\n",
       "      <td>straight &amp; narrow</td>\n",
       "      <td>Beautiful dress, wore to my junior prom.</td>\n",
       "      <td>long</td>\n",
       "      <td>4.29</td>\n",
       "      <td>-7.245175</td>\n",
       "      <td>2.944439</td>\n",
       "      <td>May 23, 2016</td>\n",
       "      <td>32</td>\n",
       "      <td>c</td>\n",
       "    </tr>\n",
       "    <tr>\n",
       "      <th>3</th>\n",
       "      <td>fit</td>\n",
       "      <td>880427</td>\n",
       "      <td>1418138</td>\n",
       "      <td>11.7910</td>\n",
       "      <td>10.0</td>\n",
       "      <td>wedding</td>\n",
       "      <td>It fit really well, the length was great, and ...</td>\n",
       "      <td>hourglass</td>\n",
       "      <td>I got so many compliments and its has pockets!</td>\n",
       "      <td>long</td>\n",
       "      <td>6.83</td>\n",
       "      <td>7.754825</td>\n",
       "      <td>3.295837</td>\n",
       "      <td>July 26, 2017</td>\n",
       "      <td>34</td>\n",
       "      <td>c</td>\n",
       "    </tr>\n",
       "    <tr>\n",
       "      <th>4</th>\n",
       "      <td>large</td>\n",
       "      <td>287738</td>\n",
       "      <td>141761</td>\n",
       "      <td>5.4420</td>\n",
       "      <td>10.0</td>\n",
       "      <td>wedding</td>\n",
       "      <td>I rented this dress last minute for wedding up...</td>\n",
       "      <td>athletic</td>\n",
       "      <td>Weekend wedding with some friends. I felt very...</td>\n",
       "      <td>long</td>\n",
       "      <td>-5.87</td>\n",
       "      <td>-4.245175</td>\n",
       "      <td>3.401197</td>\n",
       "      <td>April 14, 2016</td>\n",
       "      <td>36</td>\n",
       "      <td>b</td>\n",
       "    </tr>\n",
       "    <tr>\n",
       "      <th>...</th>\n",
       "      <td>...</td>\n",
       "      <td>...</td>\n",
       "      <td>...</td>\n",
       "      <td>...</td>\n",
       "      <td>...</td>\n",
       "      <td>...</td>\n",
       "      <td>...</td>\n",
       "      <td>...</td>\n",
       "      <td>...</td>\n",
       "      <td>...</td>\n",
       "      <td>...</td>\n",
       "      <td>...</td>\n",
       "      <td>...</td>\n",
       "      <td>...</td>\n",
       "      <td>...</td>\n",
       "      <td>...</td>\n",
       "    </tr>\n",
       "    <tr>\n",
       "      <th>192539</th>\n",
       "      <td>fit</td>\n",
       "      <td>780049</td>\n",
       "      <td>349579</td>\n",
       "      <td>-1.8140</td>\n",
       "      <td>10.0</td>\n",
       "      <td>vacation</td>\n",
       "      <td>i wore this dress on vacation to the beach. It...</td>\n",
       "      <td>other</td>\n",
       "      <td>fun and flirty</td>\n",
       "      <td>long</td>\n",
       "      <td>6.83</td>\n",
       "      <td>-8.245175</td>\n",
       "      <td>3.555348</td>\n",
       "      <td>April 3, 2017</td>\n",
       "      <td>36</td>\n",
       "      <td>c</td>\n",
       "    </tr>\n",
       "    <tr>\n",
       "      <th>192540</th>\n",
       "      <td>large</td>\n",
       "      <td>354118</td>\n",
       "      <td>126335</td>\n",
       "      <td>10.4305</td>\n",
       "      <td>8.0</td>\n",
       "      <td>party</td>\n",
       "      <td>This dress ran a bit large. I usually wear a s...</td>\n",
       "      <td>hourglass</td>\n",
       "      <td>This dress was so much fun for my bachelorette...</td>\n",
       "      <td>long</td>\n",
       "      <td>9.37</td>\n",
       "      <td>7.754825</td>\n",
       "      <td>3.401197</td>\n",
       "      <td>May 7, 2016</td>\n",
       "      <td>34</td>\n",
       "      <td>d</td>\n",
       "    </tr>\n",
       "    <tr>\n",
       "      <th>192541</th>\n",
       "      <td>fit</td>\n",
       "      <td>602351</td>\n",
       "      <td>365727</td>\n",
       "      <td>5.8955</td>\n",
       "      <td>10.0</td>\n",
       "      <td>work</td>\n",
       "      <td>Love the sleeves! Could use some accessorizing</td>\n",
       "      <td>hourglass</td>\n",
       "      <td>Easy, great material that doesn't easily wrink...</td>\n",
       "      <td>long</td>\n",
       "      <td>4.29</td>\n",
       "      <td>1.754825</td>\n",
       "      <td>3.367296</td>\n",
       "      <td>June 19, 2017</td>\n",
       "      <td>36</td>\n",
       "      <td>b</td>\n",
       "    </tr>\n",
       "    <tr>\n",
       "      <th>192542</th>\n",
       "      <td>fit</td>\n",
       "      <td>788404</td>\n",
       "      <td>2668216</td>\n",
       "      <td>-3.1745</td>\n",
       "      <td>8.0</td>\n",
       "      <td>everyday</td>\n",
       "      <td>I wore this top for a fun girls' day out with ...</td>\n",
       "      <td>athletic</td>\n",
       "      <td>Easy with a bit of fun edge.</td>\n",
       "      <td>top_short</td>\n",
       "      <td>1.75</td>\n",
       "      <td>-4.245175</td>\n",
       "      <td>3.555348</td>\n",
       "      <td>May 27, 2016</td>\n",
       "      <td>34</td>\n",
       "      <td>b</td>\n",
       "    </tr>\n",
       "    <tr>\n",
       "      <th>192543</th>\n",
       "      <td>fit</td>\n",
       "      <td>874951</td>\n",
       "      <td>1631851</td>\n",
       "      <td>5.8955</td>\n",
       "      <td>10.0</td>\n",
       "      <td>wedding</td>\n",
       "      <td>This was a save the day dress I picked up at R...</td>\n",
       "      <td>athletic</td>\n",
       "      <td>I loved the length, cut and design. Has pocket...</td>\n",
       "      <td>long</td>\n",
       "      <td>-3.33</td>\n",
       "      <td>3.754825</td>\n",
       "      <td>3.555348</td>\n",
       "      <td>July 10, 2017</td>\n",
       "      <td>36</td>\n",
       "      <td>c</td>\n",
       "    </tr>\n",
       "  </tbody>\n",
       "</table>\n",
       "<p>192544 rows × 16 columns</p>\n",
       "</div>"
      ],
      "text/plain": [
       "          fit  user_id  item_id   weight  rating     rented for  \\\n",
       "0         fit   105332   126335  21.7680     8.0          party   \n",
       "1         fit   655139   134393  -8.6165     8.0        wedding   \n",
       "2         fit   104746   573147  -5.4420     8.0  formal affair   \n",
       "3         fit   880427  1418138  11.7910    10.0        wedding   \n",
       "4       large   287738   141761   5.4420    10.0        wedding   \n",
       "...       ...      ...      ...      ...     ...            ...   \n",
       "192539    fit   780049   349579  -1.8140    10.0       vacation   \n",
       "192540  large   354118   126335  10.4305     8.0          party   \n",
       "192541    fit   602351   365727   5.8955    10.0           work   \n",
       "192542    fit   788404  2668216  -3.1745     8.0       everyday   \n",
       "192543    fit   874951  1631851   5.8955    10.0        wedding   \n",
       "\n",
       "                                              review_text          body type  \\\n",
       "0       This dress was beautiful and made me feel like...               pear   \n",
       "1       It was a little large in the bust area, but it...  straight & narrow   \n",
       "2       This dress was so pretty ugh. I honestly didn'...  straight & narrow   \n",
       "3       It fit really well, the length was great, and ...          hourglass   \n",
       "4       I rented this dress last minute for wedding up...           athletic   \n",
       "...                                                   ...                ...   \n",
       "192539  i wore this dress on vacation to the beach. It...              other   \n",
       "192540  This dress ran a bit large. I usually wear a s...          hourglass   \n",
       "192541    Love the sleeves! Could use some accessorizing           hourglass   \n",
       "192542  I wore this top for a fun girls' day out with ...           athletic   \n",
       "192543  This was a save the day dress I picked up at R...           athletic   \n",
       "\n",
       "                                           review_summary   category  height  \\\n",
       "0                I got so many compliments on this dress!       long    6.83   \n",
       "1                       I loved the shine and the fabric.       long    1.75   \n",
       "2                Beautiful dress, wore to my junior prom.       long    4.29   \n",
       "3          I got so many compliments and its has pockets!       long    6.83   \n",
       "4       Weekend wedding with some friends. I felt very...       long   -5.87   \n",
       "...                                                   ...        ...     ...   \n",
       "192539                                     fun and flirty       long    6.83   \n",
       "192540  This dress was so much fun for my bachelorette...       long    9.37   \n",
       "192541  Easy, great material that doesn't easily wrink...       long    4.29   \n",
       "192542                       Easy with a bit of fun edge.  top_short    1.75   \n",
       "192543  I loved the length, cut and design. Has pocket...       long   -3.33   \n",
       "\n",
       "             size       age        review_date  bust_num bust_char  \n",
       "0       19.754825  3.583519  December 14, 2015        36         c  \n",
       "1       -4.245175  3.555348      June 13, 2015        36         c  \n",
       "2       -7.245175  2.944439       May 23, 2016        32         c  \n",
       "3        7.754825  3.295837      July 26, 2017        34         c  \n",
       "4       -4.245175  3.401197     April 14, 2016        36         b  \n",
       "...           ...       ...                ...       ...       ...  \n",
       "192539  -8.245175  3.555348      April 3, 2017        36         c  \n",
       "192540   7.754825  3.401197        May 7, 2016        34         d  \n",
       "192541   1.754825  3.367296      June 19, 2017        36         b  \n",
       "192542  -4.245175  3.555348       May 27, 2016        34         b  \n",
       "192543   3.754825  3.555348      July 10, 2017        36         c  \n",
       "\n",
       "[192544 rows x 16 columns]"
      ]
     },
     "execution_count": 111,
     "metadata": {},
     "output_type": "execute_result"
    }
   ],
   "source": [
    "rent"
   ]
  },
  {
   "cell_type": "code",
   "execution_count": 113,
   "metadata": {},
   "outputs": [],
   "source": [
    "rented_for_one= pd.get_dummies(rent['rented for'], prefix='rented for')\n",
    "category_one = pd.get_dummies(rent['category'], prefix='category')\n",
    "bust_char_one = pd.get_dummies(rent['bust_char'], prefix='bust_char')\n",
    "body_type_one = pd.get_dummies(rent['body type'], prefix='body type')"
   ]
  },
  {
   "cell_type": "code",
   "execution_count": 114,
   "metadata": {},
   "outputs": [],
   "source": [
    "#rented_for\n",
    "# rented_for_train = rented_for_one[:180000].to_numpy()\n",
    "# rented_for_valid = rented_for_one[180000:].to_numpy()\n",
    "\n",
    "#category\n",
    "# category_one_train = category_one[:180000].to_numpy()\n",
    "# category_one_valid = category_one[180000:].to_numpy()\n",
    "\n",
    "#bust_num\n",
    "# bust_num_train = train[['bust_num']].to_numpy()\n",
    "# bust_num_valid = valid[['bust_num']].to_numpy()\n",
    "\n",
    "#bust_char\n",
    "# bust_char_for_train = bust_char_one[:180000].to_numpy()\n",
    "# bust_char_for_valid = bust_char_one[180000:].to_numpy()\n",
    "\n",
    "#body_type\n",
    "# body_type_train = body_type_one[:180000].to_numpy()\n",
    "# body_type_valid = body_type_one[180000:].to_numpy()\n",
    "\n",
    "#age\n",
    "# age_train = train[['age']].to_numpy()\n",
    "# age_valid = valid[['age']].to_numpy()\n",
    "\n",
    "# size\n",
    "# size_train = train[['size']].to_numpy()\n",
    "# size_valid = valid[['size']].to_numpy()\n",
    "\n",
    "# #weight\n",
    "# weight_train = train[['weight']].to_numpy()\n",
    "# weight_valid = valid[['weight']].to_numpy()\n",
    "\n",
    "# #height\n",
    "# height_train = train[['height']].to_numpy()\n",
    "# height_valid = valid[['height']].to_numpy()\n",
    "\n",
    "# #rating\n",
    "rating_train = train[['rating']].to_numpy()\n",
    "rating_valid = valid[['rating']].to_numpy()\n"
   ]
  },
  {
   "cell_type": "code",
   "execution_count": 115,
   "metadata": {},
   "outputs": [],
   "source": [
    "tfidf = TfidfVectorizer(stop_words = 'english', sublinear_tf = True, max_features = 1000, tokenizer = word_tokenize) \n",
    "Train_X_summary = tfidf.fit_transform(train.review_summary).toarray()"
   ]
  },
  {
   "cell_type": "code",
   "execution_count": 116,
   "metadata": {},
   "outputs": [],
   "source": [
    "tfidf2 = TfidfVectorizer(stop_words = 'english', sublinear_tf = True, max_features = 1000, tokenizer = word_tokenize) \n",
    "Train_X_text = tfidf2.fit_transform(train.review_text).toarray()"
   ]
  },
  {
   "cell_type": "code",
   "execution_count": 117,
   "metadata": {},
   "outputs": [],
   "source": [
    "combined_text = np.hstack((Train_X_summary, Train_X_text))"
   ]
  },
  {
   "cell_type": "code",
   "execution_count": 118,
   "metadata": {},
   "outputs": [],
   "source": [
    "other_feature = rating_train"
   ]
  },
  {
   "cell_type": "code",
   "execution_count": 119,
   "metadata": {},
   "outputs": [],
   "source": [
    "def combine_feature(numpy_arrays):\n",
    "    res = []\n",
    "    for i in numpy_arrays:\n",
    "        res += list(i.T)\n",
    "    return np.array(res).T"
   ]
  },
  {
   "cell_type": "code",
   "execution_count": 120,
   "metadata": {},
   "outputs": [],
   "source": [
    "final_list = combine_feature([combined_text,rating_train])"
   ]
  },
  {
   "cell_type": "code",
   "execution_count": 122,
   "metadata": {},
   "outputs": [
    {
     "data": {
      "text/plain": [
       "(180000, 2000)"
      ]
     },
     "execution_count": 122,
     "metadata": {},
     "output_type": "execute_result"
    }
   ],
   "source": [
    "combined_text.shape"
   ]
  },
  {
   "cell_type": "code",
   "execution_count": 123,
   "metadata": {},
   "outputs": [
    {
     "data": {
      "text/plain": [
       "(180000, 1)"
      ]
     },
     "execution_count": 123,
     "metadata": {},
     "output_type": "execute_result"
    }
   ],
   "source": [
    "other_feature.shape"
   ]
  },
  {
   "cell_type": "code",
   "execution_count": 125,
   "metadata": {},
   "outputs": [],
   "source": [
    "Valid_X_summary = tfidf.transform(valid.review_summary).toarray()"
   ]
  },
  {
   "cell_type": "code",
   "execution_count": 126,
   "metadata": {},
   "outputs": [],
   "source": [
    "Valid_X_text = tfidf2.transform(valid.review_text).toarray()"
   ]
  },
  {
   "cell_type": "code",
   "execution_count": 127,
   "metadata": {},
   "outputs": [],
   "source": [
    "combined_text_valid = np.hstack((Valid_X_summary, Valid_X_text))"
   ]
  },
  {
   "cell_type": "code",
   "execution_count": 128,
   "metadata": {},
   "outputs": [],
   "source": [
    "final_valid_list = combine_feature([combined_text_valid,rating_valid])"
   ]
  },
  {
   "cell_type": "code",
   "execution_count": 130,
   "metadata": {},
   "outputs": [
    {
     "data": {
      "text/plain": [
       "(12544, 2001)"
      ]
     },
     "execution_count": 130,
     "metadata": {},
     "output_type": "execute_result"
    }
   ],
   "source": [
    "final_valid_list.shape"
   ]
  },
  {
   "cell_type": "code",
   "execution_count": 132,
   "metadata": {},
   "outputs": [],
   "source": [
    "final_feature = final_list"
   ]
  },
  {
   "cell_type": "code",
   "execution_count": 133,
   "metadata": {},
   "outputs": [
    {
     "name": "stderr",
     "output_type": "stream",
     "text": [
      "C:\\Users\\Kennnnnnn\\anaconda3\\lib\\site-packages\\sklearn\\linear_model\\_logistic.py:940: ConvergenceWarning: lbfgs failed to converge (status=1):\n",
      "STOP: TOTAL NO. of ITERATIONS REACHED LIMIT.\n",
      "\n",
      "Increase the number of iterations (max_iter) or scale the data as shown in:\n",
      "    https://scikit-learn.org/stable/modules/preprocessing.html\n",
      "Please also refer to the documentation for alternative solver options:\n",
      "    https://scikit-learn.org/stable/modules/linear_model.html#logistic-regression\n",
      "  extra_warning_msg=_LOGISTIC_SOLVER_CONVERGENCE_MSG)\n"
     ]
    },
    {
     "data": {
      "text/plain": [
       "LogisticRegression(C=1.0, class_weight=None, dual=False, fit_intercept=True,\n",
       "                   intercept_scaling=1, l1_ratio=None, max_iter=100,\n",
       "                   multi_class='auto', n_jobs=None, penalty='l2',\n",
       "                   random_state=None, solver='lbfgs', tol=0.0001, verbose=0,\n",
       "                   warm_start=False)"
      ]
     },
     "execution_count": 133,
     "metadata": {},
     "output_type": "execute_result"
    }
   ],
   "source": [
    "clf = LogisticRegression()\n",
    "clf.fit(final_feature, y_train)"
   ]
  },
  {
   "cell_type": "code",
   "execution_count": 134,
   "metadata": {},
   "outputs": [
    {
     "data": {
      "text/plain": [
       "0.8143335459183674"
      ]
     },
     "execution_count": 134,
     "metadata": {},
     "output_type": "execute_result"
    }
   ],
   "source": [
    "clf.score(final_valid_list, y_valid)"
   ]
  },
  {
   "cell_type": "code",
   "execution_count": 135,
   "metadata": {},
   "outputs": [],
   "source": [
    "prdicted = clf.predict(final_valid_list)"
   ]
  },
  {
   "cell_type": "code",
   "execution_count": 138,
   "metadata": {},
   "outputs": [],
   "source": [
    "from sklearn.metrics import confusion_matrix"
   ]
  },
  {
   "cell_type": "code",
   "execution_count": 151,
   "metadata": {},
   "outputs": [],
   "source": [
    "confusion_matrix_result = confusion_matrix(prdicted,y_valid,labels = ['small','fit','large'])"
   ]
  },
  {
   "cell_type": "code",
   "execution_count": 152,
   "metadata": {
    "scrolled": true
   },
   "outputs": [
    {
     "data": {
      "text/plain": [
       "<matplotlib.image.AxesImage at 0x24c08c9b548>"
      ]
     },
     "execution_count": 152,
     "metadata": {},
     "output_type": "execute_result"
    },
    {
     "data": {
      "image/png": "[encoded data removed]",
      "text/plain": [
       "<Figure size 432x288 with 1 Axes>"
      ]
     },
     "metadata": {
      "needs_background": "light"
     },
     "output_type": "display_data"
    }
   ],
   "source": [
    "plt.imshow(confusion_matrix_result)"
   ]
  },
  {
   "cell_type": "code",
   "execution_count": 150,
   "metadata": {},
   "outputs": [],
   "source": [
    "import seaborn as sn"
   ]
  },
  {
   "cell_type": "code",
   "execution_count": 159,
   "metadata": {},
   "outputs": [],
   "source": [
    "tb_confusion = pd.DataFrame(confusion_matrix_result,['predict_small','predict_fit','predict_large'],['small','fit','large'])"
   ]
  },
  {
   "cell_type": "code",
   "execution_count": 142,
   "metadata": {},
   "outputs": [],
   "source": [
    "from sklearn.metrics import plot_confusion_matrix"
   ]
  },
  {
   "cell_type": "code",
   "execution_count": 161,
   "metadata": {},
   "outputs": [
    {
     "data": {
      "text/plain": [
       "<matplotlib.axes._subplots.AxesSubplot at 0x24c08cfc1c8>"
      ]
     },
     "execution_count": 161,
     "metadata": {},
     "output_type": "execute_result"
    },
    {
     "data": {
      "image/png": "[encoded data removed]",
      "text/plain": [
       "<Figure size 432x288 with 2 Axes>"
      ]
     },
     "metadata": {
      "needs_background": "light"
     },
     "output_type": "display_data"
    }
   ],
   "source": [
    "sn.heatmap(tb_confusion, annot=True, annot_kws={\"size\": 16}) "
   ]
  },
  {
   "cell_type": "markdown",
   "metadata": {},
   "source": [
    "## small"
   ]
  },
  {
   "cell_type": "code",
   "execution_count": 160,
   "metadata": {},
   "outputs": [
    {
     "data": {
      "text/html": [
       "<div>\n",
       "<style scoped>\n",
       "    .dataframe tbody tr th:only-of-type {\n",
       "        vertical-align: middle;\n",
       "    }\n",
       "\n",
       "    .dataframe tbody tr th {\n",
       "        vertical-align: top;\n",
       "    }\n",
       "\n",
       "    .dataframe thead th {\n",
       "        text-align: right;\n",
       "    }\n",
       "</style>\n",
       "<table border=\"1\" class=\"dataframe\">\n",
       "  <thead>\n",
       "    <tr style=\"text-align: right;\">\n",
       "      <th></th>\n",
       "      <th>small</th>\n",
       "      <th>fit</th>\n",
       "      <th>large</th>\n",
       "    </tr>\n",
       "  </thead>\n",
       "  <tbody>\n",
       "    <tr>\n",
       "      <th>predict_small</th>\n",
       "      <td>630</td>\n",
       "      <td>192</td>\n",
       "      <td>58</td>\n",
       "    </tr>\n",
       "    <tr>\n",
       "      <th>predict_fit</th>\n",
       "      <td>937</td>\n",
       "      <td>8957</td>\n",
       "      <td>896</td>\n",
       "    </tr>\n",
       "    <tr>\n",
       "      <th>predict_large</th>\n",
       "      <td>67</td>\n",
       "      <td>179</td>\n",
       "      <td>628</td>\n",
       "    </tr>\n",
       "  </tbody>\n",
       "</table>\n",
       "</div>"
      ],
      "text/plain": [
       "               small   fit  large\n",
       "predict_small    630   192     58\n",
       "predict_fit      937  8957    896\n",
       "predict_large     67   179    628"
      ]
     },
     "execution_count": 160,
     "metadata": {},
     "output_type": "execute_result"
    }
   ],
   "source": [
    "tb_confusion"
   ]
  },
  {
   "cell_type": "code",
   "execution_count": 183,
   "metadata": {},
   "outputs": [],
   "source": [
    "TP_small = 630\n",
    "TN_small = 8957+896+179+628\n",
    "FP_small = 192 + 58\n",
    "FN_small = 937 +67\n",
    "Precision_small = TP_small / (TP_small + FP_small)\n",
    "Recall_small = TP_small /(TP_small + FN_small)\n",
    "F1_score_small = 2*(Precision_small *Recall_small) / (Precision_small + Recall_small)"
   ]
  },
  {
   "cell_type": "code",
   "execution_count": 184,
   "metadata": {},
   "outputs": [
    {
     "data": {
      "text/plain": [
       "(630, 10660, 250, 1004)"
      ]
     },
     "execution_count": 184,
     "metadata": {},
     "output_type": "execute_result"
    }
   ],
   "source": [
    "TP_small,TN_small,FP_small,FN_small"
   ]
  },
  {
   "cell_type": "code",
   "execution_count": 185,
   "metadata": {},
   "outputs": [
    {
     "data": {
      "text/plain": [
       "(0.7159090909090909, 0.38555691554467564, 0.5011933174224343)"
      ]
     },
     "execution_count": 185,
     "metadata": {},
     "output_type": "execute_result"
    }
   ],
   "source": [
    "Precision_small,Recall_small,F1_score_small"
   ]
  },
  {
   "cell_type": "markdown",
   "metadata": {},
   "source": [
    "## Fit"
   ]
  },
  {
   "cell_type": "code",
   "execution_count": 190,
   "metadata": {},
   "outputs": [
    {
     "data": {
      "text/html": [
       "<div>\n",
       "<style scoped>\n",
       "    .dataframe tbody tr th:only-of-type {\n",
       "        vertical-align: middle;\n",
       "    }\n",
       "\n",
       "    .dataframe tbody tr th {\n",
       "        vertical-align: top;\n",
       "    }\n",
       "\n",
       "    .dataframe thead th {\n",
       "        text-align: right;\n",
       "    }\n",
       "</style>\n",
       "<table border=\"1\" class=\"dataframe\">\n",
       "  <thead>\n",
       "    <tr style=\"text-align: right;\">\n",
       "      <th></th>\n",
       "      <th>small</th>\n",
       "      <th>fit</th>\n",
       "      <th>large</th>\n",
       "    </tr>\n",
       "  </thead>\n",
       "  <tbody>\n",
       "    <tr>\n",
       "      <th>predict_small</th>\n",
       "      <td>630</td>\n",
       "      <td>192</td>\n",
       "      <td>58</td>\n",
       "    </tr>\n",
       "    <tr>\n",
       "      <th>predict_fit</th>\n",
       "      <td>937</td>\n",
       "      <td>8957</td>\n",
       "      <td>896</td>\n",
       "    </tr>\n",
       "    <tr>\n",
       "      <th>predict_large</th>\n",
       "      <td>67</td>\n",
       "      <td>179</td>\n",
       "      <td>628</td>\n",
       "    </tr>\n",
       "  </tbody>\n",
       "</table>\n",
       "</div>"
      ],
      "text/plain": [
       "               small   fit  large\n",
       "predict_small    630   192     58\n",
       "predict_fit      937  8957    896\n",
       "predict_large     67   179    628"
      ]
     },
     "execution_count": 190,
     "metadata": {},
     "output_type": "execute_result"
    }
   ],
   "source": [
    "tb_confusion"
   ]
  },
  {
   "cell_type": "code",
   "execution_count": 187,
   "metadata": {},
   "outputs": [],
   "source": [
    "TP_fit = 8957\n",
    "TN_fit = 630 +628 +58 +67\n",
    "FP_fit = 937 + 896\n",
    "FN_fit = 192 + 179\n",
    "Precision_fit = TP_fit / (TP_fit + FP_fit)\n",
    "Recall_fit = TP_fit /(TP_fit + FN_fit)\n",
    "F1_score_fit = 2*(Precision_fit *Recall_fit) / (Precision_fit + Recall_fit)"
   ]
  },
  {
   "cell_type": "code",
   "execution_count": 188,
   "metadata": {},
   "outputs": [
    {
     "data": {
      "text/plain": [
       "(8957, 1383, 1833, 371)"
      ]
     },
     "execution_count": 188,
     "metadata": {},
     "output_type": "execute_result"
    }
   ],
   "source": [
    "TP_fit ,TN_fit ,FP_fit ,_large"
   ]
  },
  {
   "cell_type": "code",
   "execution_count": 189,
   "metadata": {},
   "outputs": [
    {
     "data": {
      "text/plain": [
       "(0.8301204819277108, 0.9602272727272727, 0.8904463664380157)"
      ]
     },
     "execution_count": 189,
     "metadata": {},
     "output_type": "execute_result"
    }
   ],
   "source": [
    "Precision_fit ,Recall_fit ,F1_score_fit"
   ]
  },
  {
   "cell_type": "markdown",
   "metadata": {},
   "source": [
    "## large"
   ]
  },
  {
   "cell_type": "code",
   "execution_count": 191,
   "metadata": {},
   "outputs": [
    {
     "data": {
      "text/html": [
       "<div>\n",
       "<style scoped>\n",
       "    .dataframe tbody tr th:only-of-type {\n",
       "        vertical-align: middle;\n",
       "    }\n",
       "\n",
       "    .dataframe tbody tr th {\n",
       "        vertical-align: top;\n",
       "    }\n",
       "\n",
       "    .dataframe thead th {\n",
       "        text-align: right;\n",
       "    }\n",
       "</style>\n",
       "<table border=\"1\" class=\"dataframe\">\n",
       "  <thead>\n",
       "    <tr style=\"text-align: right;\">\n",
       "      <th></th>\n",
       "      <th>small</th>\n",
       "      <th>fit</th>\n",
       "      <th>large</th>\n",
       "    </tr>\n",
       "  </thead>\n",
       "  <tbody>\n",
       "    <tr>\n",
       "      <th>predict_small</th>\n",
       "      <td>630</td>\n",
       "      <td>192</td>\n",
       "      <td>58</td>\n",
       "    </tr>\n",
       "    <tr>\n",
       "      <th>predict_fit</th>\n",
       "      <td>937</td>\n",
       "      <td>8957</td>\n",
       "      <td>896</td>\n",
       "    </tr>\n",
       "    <tr>\n",
       "      <th>predict_large</th>\n",
       "      <td>67</td>\n",
       "      <td>179</td>\n",
       "      <td>628</td>\n",
       "    </tr>\n",
       "  </tbody>\n",
       "</table>\n",
       "</div>"
      ],
      "text/plain": [
       "               small   fit  large\n",
       "predict_small    630   192     58\n",
       "predict_fit      937  8957    896\n",
       "predict_large     67   179    628"
      ]
     },
     "execution_count": 191,
     "metadata": {},
     "output_type": "execute_result"
    }
   ],
   "source": [
    "tb_confusion"
   ]
  },
  {
   "cell_type": "code",
   "execution_count": 192,
   "metadata": {},
   "outputs": [],
   "source": [
    "TP_large = 628\n",
    "TN_large = 630 + 192 +8957 +937\n",
    "FP_large = 67 + 179\n",
    "FN_large = 896 + 58\n",
    "Precision_large = TP_large / (TP_large + FP_large)\n",
    "Recall_large = TP_large /(TP_large + FN_large)\n",
    "F1_score_large = 2*(Precision_large *Recall_large) / (Precision_large + Recall_large)"
   ]
  },
  {
   "cell_type": "code",
   "execution_count": 193,
   "metadata": {},
   "outputs": [
    {
     "data": {
      "text/plain": [
       "(628, 10716, 246, 954)"
      ]
     },
     "execution_count": 193,
     "metadata": {},
     "output_type": "execute_result"
    }
   ],
   "source": [
    "TP_large,TN_large,FP_large,FN_large"
   ]
  },
  {
   "cell_type": "code",
   "execution_count": 194,
   "metadata": {},
   "outputs": [
    {
     "data": {
      "text/plain": [
       "(0.7185354691075515, 0.3969658659924147, 0.511400651465798)"
      ]
     },
     "execution_count": 194,
     "metadata": {},
     "output_type": "execute_result"
    }
   ],
   "source": [
    "Precision_large ,Recall_large, F1_score_large"
   ]
  },
  {
   "cell_type": "markdown",
   "metadata": {},
   "source": [
    "## overall "
   ]
  },
  {
   "cell_type": "code",
   "execution_count": 195,
   "metadata": {},
   "outputs": [],
   "source": [
    "Total_TP = TP_large + TP_fit + TP_small\n",
    "Total_TN = TN_large + TN_fit + TN_small\n",
    "Total_FP = FP_large + FP_fit + FP_small\n",
    "Total_FN = FN_large + FN_fit + FN_small"
   ]
  },
  {
   "cell_type": "code",
   "execution_count": 196,
   "metadata": {},
   "outputs": [
    {
     "data": {
      "text/plain": [
       "(10215, 22759, 2329, 2329)"
      ]
     },
     "execution_count": 196,
     "metadata": {},
     "output_type": "execute_result"
    }
   ],
   "source": [
    "Total_TP,Total_TN,Total_FP,Total_FN"
   ]
  },
  {
   "cell_type": "code",
   "execution_count": 202,
   "metadata": {},
   "outputs": [],
   "source": [
    "Total_Precision = Total_TP / (Total_TP + Total_FP)\n",
    "Total_Recall = Total_TP /(Total_TP + Total_FN)\n",
    "Micro_F1 = Total_Precision = Total_Recall\n",
    "Macro_F1 = (F1_score_large + F1_score_fit + F1_score_small) / 3\n"
   ]
  },
  {
   "cell_type": "code",
   "execution_count": 205,
   "metadata": {},
   "outputs": [
    {
     "data": {
      "text/plain": [
       "(0.8143335459183674,\n",
       " 0.8143335459183674,\n",
       " 0.8143335459183674,\n",
       " 0.6343467784420826)"
      ]
     },
     "execution_count": 205,
     "metadata": {},
     "output_type": "execute_result"
    }
   ],
   "source": [
    "Total_Precision, Total_Recall, Micro_F1, Macro_F1"
   ]
  },
  {
   "cell_type": "code",
   "execution_count": 220,
   "metadata": {},
   "outputs": [
    {
     "data": {
      "text/plain": [
       "fit      9328\n",
       "small    1634\n",
       "large    1582\n",
       "Name: fit, dtype: int64"
      ]
     },
     "execution_count": 220,
     "metadata": {},
     "output_type": "execute_result"
    }
   ],
   "source": [
    "number_of_category = y_valid.value_counts()\n",
    "number_of_category"
   ]
  },
  {
   "cell_type": "code",
   "execution_count": 222,
   "metadata": {},
   "outputs": [
    {
     "data": {
      "text/plain": [
       "0.7919379318734822"
      ]
     },
     "execution_count": 222,
     "metadata": {},
     "output_type": "execute_result"
    }
   ],
   "source": [
    "weighted_F1 = (F1_score_large * number_of_category['large'] + F1_score_fit * number_of_category['fit'] +\n",
    "              F1_score_small * number_of_category['small']) / number_of_category.sum()\n",
    "weighted_F1"
   ]
  }
 ],
 "metadata": {
  "kernelspec": {
   "display_name": "Python 3",
   "language": "python",
   "name": "python3"
  },
  "language_info": {
   "codemirror_mode": {
    "name": "ipython",
    "version": 3
   },
   "file_extension": ".py",
   "mimetype": "text/x-python",
   "name": "python",
   "nbconvert_exporter": "python",
   "pygments_lexer": "ipython3",
   "version": "3.7.6"
  }
 },
 "nbformat": 4,
 "nbformat_minor": 4
}
